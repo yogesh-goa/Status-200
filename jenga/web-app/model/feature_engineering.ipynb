{
 "cells": [
  {
   "cell_type": "code",
   "execution_count": 1,
   "id": "6b0c2f9e-0bb3-40fd-947d-fe2220636782",
   "metadata": {},
   "outputs": [
    {
     "name": "stdout",
     "output_type": "stream",
     "text": [
      "Processed dataset saved at: E:\\processed_dataset.csv\n"
     ]
    }
   ],
   "source": [
    "import pandas as pd\n",
    "import numpy as np\n",
    "\n",
    "# Load the dataset\n",
    "df = pd.read_csv(\"E:\\\\merged_dataset.csv\")\n",
    "\n",
    "# Convert Purchase_Time to datetime\n",
    "df['Purchase_Time'] = pd.to_datetime(df['Purchase_Time'], errors='coerce')\n",
    "\n",
    "# Extract date components\n",
    "df['Year'] = df['Purchase_Time'].dt.year\n",
    "df['Month'] = df['Purchase_Time'].dt.month\n",
    "df['Day'] = df['Purchase_Time'].dt.day\n",
    "df['Hour'] = df['Purchase_Time'].dt.hour\n",
    "df['Weekday'] = df['Purchase_Time'].dt.weekday  # Monday = 0, Sunday = 6\n",
    "df['Is_Weekend'] = df['Weekday'].isin([5, 6]).astype(int)  # 1 for weekend\n",
    "\n",
    "# Function to check if purchase falls in peak season\n",
    "def is_peak_season(purchase_date, start, end):\n",
    "    if pd.isna(start) or pd.isna(end):\n",
    "        return 0\n",
    "    try:\n",
    "        start_month = pd.to_datetime(start, format='%B').month\n",
    "        end_month = pd.to_datetime(end, format='%B').month\n",
    "        return int(start_month <= purchase_date.month <= end_month)\n",
    "    except:\n",
    "        return 0\n",
    "\n",
    "# Apply peak season function\n",
    "df['Is_Peak_Season'] = df.apply(lambda row: is_peak_season(row['Purchase_Time'],\n",
    "                                                           row.get('Peak_Season_Start', np.nan),\n",
    "                                                           row.get('Peak_Season_End', np.nan)), axis=1)\n",
    "\n",
    "# Price-related features\n",
    "df['Discount_Amount'] = df['Original_Price'] - df['Discounted_Price']\n",
    "df['Discount_Percentage'] = (df['Discount_Amount'] / df['Original_Price']) * 100\n",
    "\n",
    "# Competitor price analysis\n",
    "df['Avg_Competitor_Price'] = df[['Amazon_Price', 'Flipkart_Price', 'Myntra_Price', 'Ajio_Price', 'Snapdeal_Price']].mean(axis=1, skipna=True)\n",
    "df['Price_Competitiveness'] = df['Discounted_Price'] / df['Avg_Competitor_Price']\n",
    "\n",
    "# Customer behavior features\n",
    "df['High_Cart_Abandonment'] = (df['Cart_Abandonment_Rate'] > 0.5).astype(int)\n",
    "\n",
    "# Sales-related features\n",
    "df['Revenue_per_Item'] = df['Revenue'] / df['Quantity_Sold']\n",
    "\n",
    "# Inflation Categorization\n",
    "df['Inflation_Category'] = pd.cut(df['Inflation_Rate'], bins=[0, 0.02, 0.05, 0.1, np.inf], labels=['Very Low', 'Low', 'Medium', 'High'])\n",
    "\n",
    "# One-hot encoding categorical features\n",
    "categorical_cols = ['Category_x', 'Subcategory_x', 'Payment_Mode', 'Economic_Condition']\n",
    "df = pd.get_dummies(df, columns=categorical_cols, drop_first=True)\n",
    "\n",
    "# Drop unnecessary columns\n",
    "drop_cols = ['Peak_Season_Start', 'Peak_Season_End', 'Purchase_Time', 'Category_y', 'Subcategory_y']\n",
    "df.drop(columns=[col for col in drop_cols if col in df.columns], inplace=True)\n",
    "\n",
    "# Save the processed dataset\n",
    "processed_file_path = \"E:\\\\processed_dataset.csv\"\n",
    "df.to_csv(processed_file_path, index=False)\n",
    "\n",
    "print(f\"Processed dataset saved at: {processed_file_path}\")\n"
   ]
  },
  {
   "cell_type": "code",
   "execution_count": null,
   "id": "0d67758c-d219-44cd-a603-c4cfd2f46e2b",
   "metadata": {},
   "outputs": [],
   "source": []
  }
 ],
 "metadata": {
  "kernelspec": {
   "display_name": "Python [conda env:base] *",
   "language": "python",
   "name": "conda-base-py"
  },
  "language_info": {
   "codemirror_mode": {
    "name": "ipython",
    "version": 3
   },
   "file_extension": ".py",
   "mimetype": "text/x-python",
   "name": "python",
   "nbconvert_exporter": "python",
   "pygments_lexer": "ipython3",
   "version": "3.12.7"
  }
 },
 "nbformat": 4,
 "nbformat_minor": 5
}
