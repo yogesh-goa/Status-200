{
 "cells": [
  {
   "cell_type": "code",
   "execution_count": 1,
   "id": "1931d609-7470-45c0-85a3-b15b557a29be",
   "metadata": {},
   "outputs": [],
   "source": [
    "import pandas as pd\n",
    "from sdv.multi_table import HMASynthesizer\n",
    "from sdv.metadata import MultiTableMetadata"
   ]
  },
  {
   "cell_type": "code",
   "execution_count": 2,
   "id": "9bbddc01-7a89-42c0-967c-8699c423cc2b",
   "metadata": {},
   "outputs": [
    {
     "name": "stdout",
     "output_type": "stream",
     "text": [
      "🔥 Using device: cuda\n"
     ]
    },
    {
     "ename": "TypeError",
     "evalue": "HMASynthesizer.__init__() got an unexpected keyword argument 'default_distribution'",
     "output_type": "error",
     "traceback": [
      "\u001b[1;31m---------------------------------------------------------------------------\u001b[0m",
      "\u001b[1;31mTypeError\u001b[0m                                 Traceback (most recent call last)",
      "Cell \u001b[1;32mIn[2], line 38\u001b[0m\n\u001b[0;32m     35\u001b[0m metadata\u001b[38;5;241m.\u001b[39mdetect_from_dataframes(real_data)\n\u001b[0;32m     37\u001b[0m \u001b[38;5;66;03m# Use faster GaussianCopula models\u001b[39;00m\n\u001b[1;32m---> 38\u001b[0m synthesizer \u001b[38;5;241m=\u001b[39m HMASynthesizer(metadata, default_distribution\u001b[38;5;241m=\u001b[39m\u001b[38;5;124m'\u001b[39m\u001b[38;5;124mgaussian\u001b[39m\u001b[38;5;124m'\u001b[39m)\n\u001b[0;32m     40\u001b[0m synthesizer\u001b[38;5;241m.\u001b[39mfit(real_data)\n\u001b[0;32m     42\u001b[0m \u001b[38;5;66;03m# Step 7: Extract Synthetic Tables\u001b[39;00m\n",
      "\u001b[1;31mTypeError\u001b[0m: HMASynthesizer.__init__() got an unexpected keyword argument 'default_distribution'"
     ]
    }
   ],
   "source": [
    "import pandas as pd\n",
    "import torch\n",
    "from sdv.multi_table import HMASynthesizer\n",
    "from sdv.metadata import MultiTableMetadata  # Use new Metadata class\n",
    "\n",
    "# Step 1: Load Data\n",
    "product_df = pd.read_csv(\"C:\\\\Users\\\\User\\\\Hackathon\\\\product_dataset.csv\")\n",
    "customer_df = pd.read_csv(\"C:\\\\Users\\\\User\\\\Hackathon\\\\customer_dataset.csv\")\n",
    "sales_df = pd.read_csv(\"C:\\\\Users\\\\User\\\\Hackathon\\\\sales_dataset.csv\")\n",
    "market_competition_df = pd.read_csv(\"C:\\\\Users\\\\User\\\\Hackathon\\\\market_competition_dataset.csv\")\n",
    "\n",
    "# Step 2: Ensure Relationships Are Maintained\n",
    "sales_df = sales_df.dropna(subset=[\"Product_ID\", \"Customer_ID\"])  # Remove missing foreign keys\n",
    "market_competition_df = market_competition_df[market_competition_df[\"Product_ID\"].isin(product_df[\"Product_ID\"])]\n",
    "sales_df = sales_df[sales_df[\"Product_ID\"].isin(product_df[\"Product_ID\"])]\n",
    "sales_df = sales_df[sales_df[\"Customer_ID\"].isin(customer_df[\"Customer_ID\"])]\n",
    "\n",
    "# Step 3: Store DataFrames in a Dictionary\n",
    "real_data = {\n",
    "    \"Product\": product_df,\n",
    "    \"Customer\": customer_df,\n",
    "    \"Sales\": sales_df,\n",
    "    \"Market_Competition\": market_competition_df\n",
    "}\n",
    "\n",
    "# Step 4: Define Metadata (New Method)\n",
    "metadata = MultiTableMetadata()\n",
    "metadata.detect_from_dataframes(real_data)\n",
    "\n",
    "# Step 5: Train the HMA1 Synthesizer with Optimized Settings\n",
    "device = torch.device(\"cuda\" if torch.cuda.is_available() else \"cpu\")\n",
    "print(f\"🔥 Using device: {device}\")\n",
    "\n",
    "metadata = MultiTableMetadata()\n",
    "metadata.detect_from_dataframes(real_data)\n",
    "\n",
    "# Use faster GaussianCopula models\n",
    "synthesizer = HMASynthesizer(metadata, default_distribution='gaussian')\n",
    "\n",
    "synthesizer.fit(real_data)\n",
    "\n",
    "# Step 7: Extract Synthetic Tables\n",
    "df_synthetic_product = synthetic_data[\"Product\"]\n",
    "df_synthetic_customer = synthetic_data[\"Customer\"]\n",
    "df_synthetic_sales = synthetic_data[\"Sales\"]\n",
    "df_synthetic_market = synthetic_data[\"Market_Competition\"]\n",
    "\n",
    "# Display first few rows for verification\n",
    "print(\"\\n🔹 Synthetic Product Table:\\n\", df_synthetic_product.head())\n",
    "print(\"\\n🔹 Synthetic Customer Table:\\n\", df_synthetic_customer.head())\n",
    "print(\"\\n🔹 Synthetic Sales Table:\\n\", df_synthetic_sales.head())\n",
    "print(\"\\n🔹 Synthetic Market_Competition Table:\\n\", df_synthetic_market.head())\n"
   ]
  },
  {
   "cell_type": "code",
   "execution_count": null,
   "id": "827eb9f9-1ce0-4c9a-aa14-e10a7d4fc4da",
   "metadata": {},
   "outputs": [],
   "source": [
    "# # Save synthetic data as CSV files\n",
    "# df_synthetic_product.to_csv(\"synthetic_product.csv\", index=False)\n",
    "# df_synthetic_customer.to_csv(\"synthetic_customer.csv\", index=False)\n",
    "# df_synthetic_sales.to_csv(\"synthetic_sales.csv\", index=False)\n",
    "# df_synthetic_market.to_csv(\"synthetic_market_competition.csv\", index=False)\n",
    "\n",
    "# print(\" Synthetic data saved as CSV files successfully!\")"
   ]
  },
  {
   "cell_type": "code",
   "execution_count": null,
   "id": "054042bc-1ef0-4a26-b2fc-aaf2b81d34e4",
   "metadata": {},
   "outputs": [],
   "source": [
    "# # Verify column names in each DataFrame\n",
    "# for table_name, df in real_data.items():\n",
    "#     print(f\"Table: {table_name}\")\n",
    "#     print(df.columns)  # Print column names\n",
    "#     print(\"\\n\")"
   ]
  },
  {
   "cell_type": "code",
   "execution_count": null,
   "id": "df061500-bd5a-4f50-a0bf-91f2fd6cce24",
   "metadata": {},
   "outputs": [],
   "source": [
    "# # Print metadata structure\n",
    "# print(metadata.to_dict())"
   ]
  },
  {
   "cell_type": "code",
   "execution_count": null,
   "id": "1a03334d-4f24-4027-aa4b-5e12371f3614",
   "metadata": {},
   "outputs": [],
   "source": [
    "# pip install torch torchvision torchaudio --index-url https://download.pytorch.org/whl/cu121"
   ]
  },
  {
   "cell_type": "code",
   "execution_count": null,
   "id": "730c6043-0947-4578-ae42-5d13cf4799b2",
   "metadata": {},
   "outputs": [],
   "source": []
  },
  {
   "cell_type": "code",
   "execution_count": null,
   "id": "3a9f0db0-d901-4433-8314-5d36f1608129",
   "metadata": {},
   "outputs": [],
   "source": []
  }
 ],
 "metadata": {
  "kernelspec": {
   "display_name": "Python [conda env:base] *",
   "language": "python",
   "name": "conda-base-py"
  },
  "language_info": {
   "codemirror_mode": {
    "name": "ipython",
    "version": 3
   },
   "file_extension": ".py",
   "mimetype": "text/x-python",
   "name": "python",
   "nbconvert_exporter": "python",
   "pygments_lexer": "ipython3",
   "version": "3.12.7"
  }
 },
 "nbformat": 4,
 "nbformat_minor": 5
}
